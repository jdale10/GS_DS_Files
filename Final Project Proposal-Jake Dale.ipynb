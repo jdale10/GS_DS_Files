{
 "cells": [
  {
   "cell_type": "markdown",
   "metadata": {},
   "source": [
    "# Proposal for Final Project- Jake Dale\n"
   ]
  },
  {
   "cell_type": "markdown",
   "metadata": {},
   "source": [
    "Problem: Real estate (houses in particular) is one of the most important asset classes and stores of wealth, yet pricing and valuations are not nearly as transparent as for other assets. Reasons include the fact that houses are not fungible, and market prices are available only when a house is put up for sale. However, many features of a house are observable and measurable at any time."
   ]
  },
  {
   "cell_type": "markdown",
   "metadata": {},
   "source": [
    "Proposal: There is a database of houses in Ames, IA (https://www.kaggle.com/c/house-prices-advanced-regression-techniques). The data is broken into both a training set and a test set, and in addition to the target variable (house price) to be predicted, there are 79 other features that could have explanatory power over the price. The plan is to analyze the dataset to see if a model can be derived that provides an accurate prediction for the house price as a function of the features, within a certain margin of error."
   ]
  },
  {
   "cell_type": "code",
   "execution_count": null,
   "metadata": {
    "collapsed": true
   },
   "outputs": [],
   "source": []
  }
 ],
 "metadata": {
  "kernelspec": {
   "display_name": "Python 2",
   "language": "python",
   "name": "python2"
  },
  "language_info": {
   "codemirror_mode": {
    "name": "ipython",
    "version": 2
   },
   "file_extension": ".py",
   "mimetype": "text/x-python",
   "name": "python",
   "nbconvert_exporter": "python",
   "pygments_lexer": "ipython2",
   "version": "2.7.14"
  }
 },
 "nbformat": 4,
 "nbformat_minor": 2
}
