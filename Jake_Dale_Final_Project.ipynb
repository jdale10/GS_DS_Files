{
 "cells": [
  {
   "cell_type": "markdown",
   "metadata": {
    "deletable": true,
    "editable": true
   },
   "source": [
    "# Final Project- Jake Dale"
   ]
  },
  {
   "cell_type": "code",
   "execution_count": null,
   "metadata": {
    "collapsed": true,
    "deletable": true,
    "editable": true
   },
   "outputs": [],
   "source": []
  },
  {
   "cell_type": "markdown",
   "metadata": {
    "deletable": true,
    "editable": true
   },
   "source": [
    "Problem: Real estate (houses in particular) is one of the most important asset classes and stores of wealth, yet pricing and valuations are not nearly as transparent as for other assets. Reasons include the fact that houses are not fungible, and market prices are available only when a house is put up for sale. However, many features of a house are observable and measurable at any time.\n",
    "\n",
    "Proposal: There is a database of houses in Ames, IA (https://www.kaggle.com/c/house-prices-advanced-regression-techniques). The data is broken into both a training set and a test set, and in addition to the target variable (house price) to be predicted, there are 79 other features that could have explanatory power over the price. The plan is to analyze the dataset to see if a model can be derived that provides an accurate prediction for the house price as a function of the features, within a certain margin of error.\n",
    "\n",
    "In our data, the SalePrice is the target variable. My intuition, based off of the \"Location, Location, Location\" saying, is that categorical features such as the neighborhood and proximity to key roads, will be more important."
   ]
  },
  {
   "cell_type": "code",
   "execution_count": 1,
   "metadata": {
    "collapsed": true,
    "deletable": true,
    "editable": true
   },
   "outputs": [],
   "source": [
    "# Download the necessary libraries and import the data set.\n",
    "\n",
    "import pandas as pd\n",
    "import numpy as np\n",
    "import seaborn as sns\n",
    "\n",
    "import matplotlib.pyplot as plt\n",
    "\n",
    "%matplotlib inline\n",
    "\n",
    "path = './housing.csv'\n",
    "housing = pd.read_csv(path)"
   ]
  },
  {
   "cell_type": "code",
   "execution_count": 4,
   "metadata": {
    "collapsed": false,
    "deletable": true,
    "editable": true,
    "scrolled": true
   },
   "outputs": [
    {
     "name": "stdout",
     "output_type": "stream",
     "text": [
      "<class 'pandas.core.frame.DataFrame'>\n",
      "RangeIndex: 1460 entries, 0 to 1459\n",
      "Data columns (total 81 columns):\n",
      "Id               1460 non-null int64\n",
      "MSSubClass       1460 non-null int64\n",
      "MSZoning         1460 non-null object\n",
      "LotFrontage      1201 non-null float64\n",
      "LotArea          1460 non-null int64\n",
      "Street           1460 non-null object\n",
      "Alley            91 non-null object\n",
      "LotShape         1460 non-null object\n",
      "LandContour      1460 non-null object\n",
      "Utilities        1460 non-null object\n",
      "LotConfig        1460 non-null object\n",
      "LandSlope        1460 non-null object\n",
      "Neighborhood     1460 non-null object\n",
      "Condition1       1460 non-null object\n",
      "Condition2       1460 non-null object\n",
      "BldgType         1460 non-null object\n",
      "HouseStyle       1460 non-null object\n",
      "OverallQual      1460 non-null int64\n",
      "OverallCond      1460 non-null int64\n",
      "YearBuilt        1460 non-null int64\n",
      "YearRemodAdd     1460 non-null int64\n",
      "RoofStyle        1460 non-null object\n",
      "RoofMatl         1460 non-null object\n",
      "Exterior1st      1460 non-null object\n",
      "Exterior2nd      1460 non-null object\n",
      "MasVnrType       1452 non-null object\n",
      "MasVnrArea       1452 non-null float64\n",
      "ExterQual        1460 non-null object\n",
      "ExterCond        1460 non-null object\n",
      "Foundation       1460 non-null object\n",
      "BsmtQual         1423 non-null object\n",
      "BsmtCond         1423 non-null object\n",
      "BsmtExposure     1422 non-null object\n",
      "BsmtFinType1     1423 non-null object\n",
      "BsmtFinSF1       1460 non-null int64\n",
      "BsmtFinType2     1422 non-null object\n",
      "BsmtFinSF2       1460 non-null int64\n",
      "BsmtUnfSF        1460 non-null int64\n",
      "TotalBsmtSF      1460 non-null int64\n",
      "Heating          1460 non-null object\n",
      "HeatingQC        1460 non-null object\n",
      "CentralAir       1460 non-null object\n",
      "Electrical       1459 non-null object\n",
      "1stFlrSF         1460 non-null int64\n",
      "2ndFlrSF         1460 non-null int64\n",
      "LowQualFinSF     1460 non-null int64\n",
      "GrLivArea        1460 non-null int64\n",
      "BsmtFullBath     1460 non-null int64\n",
      "BsmtHalfBath     1460 non-null int64\n",
      "FullBath         1460 non-null int64\n",
      "HalfBath         1460 non-null int64\n",
      "BedroomAbvGr     1460 non-null int64\n",
      "KitchenAbvGr     1460 non-null int64\n",
      "KitchenQual      1460 non-null object\n",
      "TotRmsAbvGrd     1460 non-null int64\n",
      "Functional       1460 non-null object\n",
      "Fireplaces       1460 non-null int64\n",
      "FireplaceQu      770 non-null object\n",
      "GarageType       1379 non-null object\n",
      "GarageYrBlt      1379 non-null float64\n",
      "GarageFinish     1379 non-null object\n",
      "GarageCars       1460 non-null int64\n",
      "GarageArea       1460 non-null int64\n",
      "GarageQual       1379 non-null object\n",
      "GarageCond       1379 non-null object\n",
      "PavedDrive       1460 non-null object\n",
      "WoodDeckSF       1460 non-null int64\n",
      "OpenPorchSF      1460 non-null int64\n",
      "EnclosedPorch    1460 non-null int64\n",
      "3SsnPorch        1460 non-null int64\n",
      "ScreenPorch      1460 non-null int64\n",
      "PoolArea         1460 non-null int64\n",
      "PoolQC           7 non-null object\n",
      "Fence            281 non-null object\n",
      "MiscFeature      54 non-null object\n",
      "MiscVal          1460 non-null int64\n",
      "MoSold           1460 non-null int64\n",
      "YrSold           1460 non-null int64\n",
      "SaleType         1460 non-null object\n",
      "SaleCondition    1460 non-null object\n",
      "SalePrice        1460 non-null int64\n",
      "dtypes: float64(3), int64(35), object(43)\n",
      "memory usage: 924.0+ KB\n"
     ]
    }
   ],
   "source": [
    "housing.info()"
   ]
  },
  {
   "cell_type": "code",
   "execution_count": 64,
   "metadata": {
    "collapsed": false,
    "deletable": true,
    "editable": true,
    "scrolled": true
   },
   "outputs": [
    {
     "data": {
      "image/png": "[encoded data removed]",
      "text/plain": [
       "<matplotlib.figure.Figure at 0xe6183c8>"
      ]
     },
     "metadata": {},
     "output_type": "display_data"
    }
   ],
   "source": [
    "sns.set_style('whitegrid')\n",
    "ax= sns.boxplot(x=housing['SalePrice']);"
   ]
  },
  {
   "cell_type": "code",
   "execution_count": 65,
   "metadata": {
    "collapsed": false,
    "deletable": true,
    "editable": true
   },
   "outputs": [
    {
     "data": {
      "text/plain": [
       "count      1460.000000\n",
       "mean     180921.195890\n",
       "std       79442.502883\n",
       "min       34900.000000\n",
       "25%      129975.000000\n",
       "50%      163000.000000\n",
       "75%      214000.000000\n",
       "max      755000.000000\n",
       "Name: SalePrice, dtype: float64"
      ]
     },
     "execution_count": 65,
     "metadata": {},
     "output_type": "execute_result"
    }
   ],
   "source": [
    "housing.SalePrice.describe()"
   ]
  },
  {
   "cell_type": "code",
   "execution_count": 5,
   "metadata": {
    "collapsed": false,
    "deletable": true,
    "editable": true
   },
   "outputs": [
    {
     "data": {
      "image/png": "[encoded data removed]",
      "text/plain": [
       "<matplotlib.figure.Figure at 0xa711be0>"
      ]
     },
     "metadata": {},
     "output_type": "display_data"
    }
   ],
   "source": [
    "corr = housing.corr()\n",
    "sns.heatmap(corr, \n",
    "            xticklabels=corr.columns.values,\n",
    "            yticklabels=corr.columns.values);"
   ]
  },
  {
   "cell_type": "markdown",
   "metadata": {
    "deletable": true,
    "editable": true
   },
   "source": [
    "## Data Cleaning\n",
    "\n",
    "The Kaggle link has a data description attached to go over the meaning of each feature in the dataset. There were several different types of features, each of which has to be cleaned and processed differenently."
   ]
  },
  {
   "cell_type": "markdown",
   "metadata": {
    "deletable": true,
    "editable": true
   },
   "source": [
    "There is one feature, MSSubClass that has numerical values, but is in fact a non-ordered categorical feature,\n",
    "and will need to be dummy encoded."
   ]
  },
  {
   "cell_type": "code",
   "execution_count": 8,
   "metadata": {
    "collapsed": true,
    "deletable": true,
    "editable": true
   },
   "outputs": [],
   "source": [
    "housing = pd.get_dummies(housing, columns=['MSSubClass'], drop_first=True)"
   ]
  },
  {
   "cell_type": "markdown",
   "metadata": {
    "deletable": true,
    "editable": true
   },
   "source": [
    "There are some text-encoded categorical features that are ordered, and can therefore be numerically encoded. Ten of them use the same Excellent to Poor rating scheme, so we can loop through them and map. However, others use different ratings schemes or take different values, and have to be handled separately."
   ]
  },
  {
   "cell_type": "code",
   "execution_count": 10,
   "metadata": {
    "collapsed": true,
    "deletable": true,
    "editable": true
   },
   "outputs": [],
   "source": [
    "#Ten of these features have the same scheme.\n",
    "ordinal_columns=[]\n",
    "quality_mappings = {'Ex': 5, 'Gd': 4 , 'TA': 3 , 'Fa' : 2 ,  'Po' : 1 , 'NA' : 0}\n",
    "\n",
    "for column in housing:\n",
    "    if 'TA' in housing[column].value_counts() or 'Ex' in housing[column].value_counts():\n",
    "            ordinal_columns.append(column)\n",
    "\n",
    "for column in ordinal_columns:\n",
    "    housing[column]=housing[column].map(quality_mappings)\n",
    "\n",
    "#Two features, regarding the basement finish type, have a slightly different ratings scheme.\n",
    "\n",
    "basement_columns=['BsmtFinType1', 'BsmtFinType2']\n",
    "basement_mappings= {'GLQ':6, 'ALQ':5, 'BLQ':4, 'Rec':3,'LwQ':2, 'Unf':1, 'NA':0}\n",
    "\n",
    "for column in basement_columns:\n",
    "    housing[column]=housing[column].map(basement_mappings)\n",
    "    \n",
    "#There are then several features with unique ratings scales, mapped separately from the others.\n",
    "#They are BsmtExposure, Functional, LandSlope, GarageFinish, PavedDrive, LotShape.\n",
    "\n",
    "exposure_mappings= {'Gd':4, 'Av':3, 'Mn':2, 'No':1, 'NA':0}\n",
    "housing['BsmtExposure']=housing['BsmtExposure'].map(exposure_mappings)\n",
    "\n",
    "functional_mappings= {'Typ':8, 'Min1':7, 'Min2':6, 'Mod':5, 'Maj1':4, 'Maj2':3, 'Sev':2, 'Sal':1, 'NA': 0}\n",
    "housing['Functional']=housing['Functional'].map(functional_mappings)\n",
    "\n",
    "landslope_mappings= {'NA':0, 'Gtl':1, 'Mod':2, 'Sev':3}\n",
    "housing['LandSlope']=housing['LandSlope'].map(landslope_mappings)\n",
    "\n",
    "garage_mappings= {'Fin':3, 'RFn':2, 'Unf':1, 'NA':0}\n",
    "housing['GarageFinish']=housing['GarageFinish'].map(garage_mappings)\n",
    "\n",
    "paved_mappings={'Y':2, 'P':1, 'N':0}\n",
    "housing['PavedDrive']=housing['PavedDrive'].map(garage_mappings)\n",
    "\n",
    "lot_mappings= {'IR3':3, 'IR2':2, 'IR1':1, 'Reg':0}\n",
    "housing['LotShape']=housing['LotShape'].map(lot_mappings)"
   ]
  },
  {
   "cell_type": "markdown",
   "metadata": {
    "deletable": true,
    "editable": true
   },
   "source": [
    "The remaining features with datatype=object cannot sensibly be ordered, so we will use dummy encoding on the rest to convert them into numerical (integer) features. As a final step, we can go through and fill the remaining NA values with 0. Because there are null values for many categorical features, we didn't drop the first dummy variable. Because some features don't apply to some houses, we need all of the dummy variables."
   ]
  },
  {
   "cell_type": "code",
   "execution_count": 12,
   "metadata": {
    "collapsed": true,
    "deletable": true,
    "editable": true
   },
   "outputs": [],
   "source": [
    "#Convert the remaining object-typed features into integer-typed dummies.\n",
    "\n",
    "dummy_features=[]\n",
    "\n",
    "for column in housing:\n",
    "    if housing[column].dtype==object:\n",
    "        dummy_features.append(column)\n",
    "\n",
    "for column in dummy_features:\n",
    "    housing=pd.get_dummies(housing, columns=[column], drop_first=False)"
   ]
  },
  {
   "cell_type": "code",
   "execution_count": 13,
   "metadata": {
    "collapsed": true,
    "deletable": true,
    "editable": true
   },
   "outputs": [],
   "source": [
    "#The final step in our data cleaning involves replacing the null values with zero, which should make sense in the context of our modified features.\n",
    "housing.fillna(value=0, inplace=True)"
   ]
  },
  {
   "cell_type": "code",
   "execution_count": 14,
   "metadata": {
    "collapsed": false,
    "deletable": true,
    "editable": true
   },
   "outputs": [
    {
     "data": {
      "text/html": [
       "<div>\n",
       "<table border=\"1\" class=\"dataframe\">\n",
       "  <thead>\n",
       "    <tr style=\"text-align: right;\">\n",
       "      <th></th>\n",
       "      <th>Id</th>\n",
       "      <th>LotFrontage</th>\n",
       "      <th>LotArea</th>\n",
       "      <th>LotShape</th>\n",
       "      <th>LandSlope</th>\n",
       "      <th>OverallQual</th>\n",
       "      <th>OverallCond</th>\n",
       "      <th>YearBuilt</th>\n",
       "      <th>YearRemodAdd</th>\n",
       "      <th>MasVnrArea</th>\n",
       "      <th>...</th>\n",
       "      <th>SaleType_ConLw</th>\n",
       "      <th>SaleType_New</th>\n",
       "      <th>SaleType_Oth</th>\n",
       "      <th>SaleType_WD</th>\n",
       "      <th>SaleCondition_Abnorml</th>\n",
       "      <th>SaleCondition_AdjLand</th>\n",
       "      <th>SaleCondition_Alloca</th>\n",
       "      <th>SaleCondition_Family</th>\n",
       "      <th>SaleCondition_Normal</th>\n",
       "      <th>SaleCondition_Partial</th>\n",
       "    </tr>\n",
       "  </thead>\n",
       "  <tbody>\n",
       "    <tr>\n",
       "      <th>count</th>\n",
       "      <td>1460.000000</td>\n",
       "      <td>1460.000000</td>\n",
       "      <td>1460.000000</td>\n",
       "      <td>1460.000000</td>\n",
       "      <td>1460.000000</td>\n",
       "      <td>1460.000000</td>\n",
       "      <td>1460.000000</td>\n",
       "      <td>1460.000000</td>\n",
       "      <td>1460.000000</td>\n",
       "      <td>1460.000000</td>\n",
       "      <td>...</td>\n",
       "      <td>1460.000000</td>\n",
       "      <td>1460.000000</td>\n",
       "      <td>1460.000000</td>\n",
       "      <td>1460.000000</td>\n",
       "      <td>1460.000000</td>\n",
       "      <td>1460.000000</td>\n",
       "      <td>1460.000000</td>\n",
       "      <td>1460.000000</td>\n",
       "      <td>1460.000000</td>\n",
       "      <td>1460.000000</td>\n",
       "    </tr>\n",
       "    <tr>\n",
       "      <th>mean</th>\n",
       "      <td>730.500000</td>\n",
       "      <td>57.623288</td>\n",
       "      <td>10516.828082</td>\n",
       "      <td>0.408219</td>\n",
       "      <td>1.062329</td>\n",
       "      <td>6.099315</td>\n",
       "      <td>5.575342</td>\n",
       "      <td>1971.267808</td>\n",
       "      <td>1984.865753</td>\n",
       "      <td>103.117123</td>\n",
       "      <td>...</td>\n",
       "      <td>0.003425</td>\n",
       "      <td>0.083562</td>\n",
       "      <td>0.002055</td>\n",
       "      <td>0.867808</td>\n",
       "      <td>0.069178</td>\n",
       "      <td>0.002740</td>\n",
       "      <td>0.008219</td>\n",
       "      <td>0.013699</td>\n",
       "      <td>0.820548</td>\n",
       "      <td>0.085616</td>\n",
       "    </tr>\n",
       "    <tr>\n",
       "      <th>std</th>\n",
       "      <td>421.610009</td>\n",
       "      <td>34.664304</td>\n",
       "      <td>9981.264932</td>\n",
       "      <td>0.582296</td>\n",
       "      <td>0.276232</td>\n",
       "      <td>1.382997</td>\n",
       "      <td>1.112799</td>\n",
       "      <td>30.202904</td>\n",
       "      <td>20.645407</td>\n",
       "      <td>180.731373</td>\n",
       "      <td>...</td>\n",
       "      <td>0.058440</td>\n",
       "      <td>0.276824</td>\n",
       "      <td>0.045299</td>\n",
       "      <td>0.338815</td>\n",
       "      <td>0.253844</td>\n",
       "      <td>0.052289</td>\n",
       "      <td>0.090317</td>\n",
       "      <td>0.116277</td>\n",
       "      <td>0.383862</td>\n",
       "      <td>0.279893</td>\n",
       "    </tr>\n",
       "    <tr>\n",
       "      <th>min</th>\n",
       "      <td>1.000000</td>\n",
       "      <td>0.000000</td>\n",
       "      <td>1300.000000</td>\n",
       "      <td>0.000000</td>\n",
       "      <td>1.000000</td>\n",
       "      <td>1.000000</td>\n",
       "      <td>1.000000</td>\n",
       "      <td>1872.000000</td>\n",
       "      <td>1950.000000</td>\n",
       "      <td>0.000000</td>\n",
       "      <td>...</td>\n",
       "      <td>0.000000</td>\n",
       "      <td>0.000000</td>\n",
       "      <td>0.000000</td>\n",
       "      <td>0.000000</td>\n",
       "      <td>0.000000</td>\n",
       "      <td>0.000000</td>\n",
       "      <td>0.000000</td>\n",
       "      <td>0.000000</td>\n",
       "      <td>0.000000</td>\n",
       "      <td>0.000000</td>\n",
       "    </tr>\n",
       "    <tr>\n",
       "      <th>25%</th>\n",
       "      <td>365.750000</td>\n",
       "      <td>42.000000</td>\n",
       "      <td>7553.500000</td>\n",
       "      <td>0.000000</td>\n",
       "      <td>1.000000</td>\n",
       "      <td>5.000000</td>\n",
       "      <td>5.000000</td>\n",
       "      <td>1954.000000</td>\n",
       "      <td>1967.000000</td>\n",
       "      <td>0.000000</td>\n",
       "      <td>...</td>\n",
       "      <td>0.000000</td>\n",
       "      <td>0.000000</td>\n",
       "      <td>0.000000</td>\n",
       "      <td>1.000000</td>\n",
       "      <td>0.000000</td>\n",
       "      <td>0.000000</td>\n",
       "      <td>0.000000</td>\n",
       "      <td>0.000000</td>\n",
       "      <td>1.000000</td>\n",
       "      <td>0.000000</td>\n",
       "    </tr>\n",
       "    <tr>\n",
       "      <th>50%</th>\n",
       "      <td>730.500000</td>\n",
       "      <td>63.000000</td>\n",
       "      <td>9478.500000</td>\n",
       "      <td>0.000000</td>\n",
       "      <td>1.000000</td>\n",
       "      <td>6.000000</td>\n",
       "      <td>5.000000</td>\n",
       "      <td>1973.000000</td>\n",
       "      <td>1994.000000</td>\n",
       "      <td>0.000000</td>\n",
       "      <td>...</td>\n",
       "      <td>0.000000</td>\n",
       "      <td>0.000000</td>\n",
       "      <td>0.000000</td>\n",
       "      <td>1.000000</td>\n",
       "      <td>0.000000</td>\n",
       "      <td>0.000000</td>\n",
       "      <td>0.000000</td>\n",
       "      <td>0.000000</td>\n",
       "      <td>1.000000</td>\n",
       "      <td>0.000000</td>\n",
       "    </tr>\n",
       "    <tr>\n",
       "      <th>75%</th>\n",
       "      <td>1095.250000</td>\n",
       "      <td>79.000000</td>\n",
       "      <td>11601.500000</td>\n",
       "      <td>1.000000</td>\n",
       "      <td>1.000000</td>\n",
       "      <td>7.000000</td>\n",
       "      <td>6.000000</td>\n",
       "      <td>2000.000000</td>\n",
       "      <td>2004.000000</td>\n",
       "      <td>164.250000</td>\n",
       "      <td>...</td>\n",
       "      <td>0.000000</td>\n",
       "      <td>0.000000</td>\n",
       "      <td>0.000000</td>\n",
       "      <td>1.000000</td>\n",
       "      <td>0.000000</td>\n",
       "      <td>0.000000</td>\n",
       "      <td>0.000000</td>\n",
       "      <td>0.000000</td>\n",
       "      <td>1.000000</td>\n",
       "      <td>0.000000</td>\n",
       "    </tr>\n",
       "    <tr>\n",
       "      <th>max</th>\n",
       "      <td>1460.000000</td>\n",
       "      <td>313.000000</td>\n",
       "      <td>215245.000000</td>\n",
       "      <td>3.000000</td>\n",
       "      <td>3.000000</td>\n",
       "      <td>10.000000</td>\n",
       "      <td>9.000000</td>\n",
       "      <td>2010.000000</td>\n",
       "      <td>2010.000000</td>\n",
       "      <td>1600.000000</td>\n",
       "      <td>...</td>\n",
       "      <td>1.000000</td>\n",
       "      <td>1.000000</td>\n",
       "      <td>1.000000</td>\n",
       "      <td>1.000000</td>\n",
       "      <td>1.000000</td>\n",
       "      <td>1.000000</td>\n",
       "      <td>1.000000</td>\n",
       "      <td>1.000000</td>\n",
       "      <td>1.000000</td>\n",
       "      <td>1.000000</td>\n",
       "    </tr>\n",
       "  </tbody>\n",
       "</table>\n",
       "<p>8 rows × 241 columns</p>\n",
       "</div>"
      ],
      "text/plain": [
       "                Id  LotFrontage        LotArea     LotShape    LandSlope  \\\n",
       "count  1460.000000  1460.000000    1460.000000  1460.000000  1460.000000   \n",
       "mean    730.500000    57.623288   10516.828082     0.408219     1.062329   \n",
       "std     421.610009    34.664304    9981.264932     0.582296     0.276232   \n",
       "min       1.000000     0.000000    1300.000000     0.000000     1.000000   \n",
       "25%     365.750000    42.000000    7553.500000     0.000000     1.000000   \n",
       "50%     730.500000    63.000000    9478.500000     0.000000     1.000000   \n",
       "75%    1095.250000    79.000000   11601.500000     1.000000     1.000000   \n",
       "max    1460.000000   313.000000  215245.000000     3.000000     3.000000   \n",
       "\n",
       "       OverallQual  OverallCond    YearBuilt  YearRemodAdd   MasVnrArea  \\\n",
       "count  1460.000000  1460.000000  1460.000000   1460.000000  1460.000000   \n",
       "mean      6.099315     5.575342  1971.267808   1984.865753   103.117123   \n",
       "std       1.382997     1.112799    30.202904     20.645407   180.731373   \n",
       "min       1.000000     1.000000  1872.000000   1950.000000     0.000000   \n",
       "25%       5.000000     5.000000  1954.000000   1967.000000     0.000000   \n",
       "50%       6.000000     5.000000  1973.000000   1994.000000     0.000000   \n",
       "75%       7.000000     6.000000  2000.000000   2004.000000   164.250000   \n",
       "max      10.000000     9.000000  2010.000000   2010.000000  1600.000000   \n",
       "\n",
       "               ...            SaleType_ConLw  SaleType_New  SaleType_Oth  \\\n",
       "count          ...               1460.000000   1460.000000   1460.000000   \n",
       "mean           ...                  0.003425      0.083562      0.002055   \n",
       "std            ...                  0.058440      0.276824      0.045299   \n",
       "min            ...                  0.000000      0.000000      0.000000   \n",
       "25%            ...                  0.000000      0.000000      0.000000   \n",
       "50%            ...                  0.000000      0.000000      0.000000   \n",
       "75%            ...                  0.000000      0.000000      0.000000   \n",
       "max            ...                  1.000000      1.000000      1.000000   \n",
       "\n",
       "       SaleType_WD  SaleCondition_Abnorml  SaleCondition_AdjLand  \\\n",
       "count  1460.000000            1460.000000            1460.000000   \n",
       "mean      0.867808               0.069178               0.002740   \n",
       "std       0.338815               0.253844               0.052289   \n",
       "min       0.000000               0.000000               0.000000   \n",
       "25%       1.000000               0.000000               0.000000   \n",
       "50%       1.000000               0.000000               0.000000   \n",
       "75%       1.000000               0.000000               0.000000   \n",
       "max       1.000000               1.000000               1.000000   \n",
       "\n",
       "       SaleCondition_Alloca  SaleCondition_Family  SaleCondition_Normal  \\\n",
       "count           1460.000000           1460.000000           1460.000000   \n",
       "mean               0.008219              0.013699              0.820548   \n",
       "std                0.090317              0.116277              0.383862   \n",
       "min                0.000000              0.000000              0.000000   \n",
       "25%                0.000000              0.000000              1.000000   \n",
       "50%                0.000000              0.000000              1.000000   \n",
       "75%                0.000000              0.000000              1.000000   \n",
       "max                1.000000              1.000000              1.000000   \n",
       "\n",
       "       SaleCondition_Partial  \n",
       "count            1460.000000  \n",
       "mean                0.085616  \n",
       "std                 0.279893  \n",
       "min                 0.000000  \n",
       "25%                 0.000000  \n",
       "50%                 0.000000  \n",
       "75%                 0.000000  \n",
       "max                 1.000000  \n",
       "\n",
       "[8 rows x 241 columns]"
      ]
     },
     "execution_count": 14,
     "metadata": {},
     "output_type": "execute_result"
    }
   ],
   "source": [
    "\n",
    "housing.describe()"
   ]
  },
  {
   "cell_type": "markdown",
   "metadata": {
    "deletable": true,
    "editable": true
   },
   "source": [
    "## Model Creation\n",
    "\n",
    "First, we will create a null benchmark against which to test our models by always predicting the simple mean. We will compare the root mean squared error (RMSE) against the results of our later models."
   ]
  },
  {
   "cell_type": "code",
   "execution_count": 15,
   "metadata": {
    "collapsed": false,
    "deletable": true,
    "editable": true
   },
   "outputs": [
    {
     "name": "stdout",
     "output_type": "stream",
     "text": [
      "183078.819178\n"
     ]
    },
    {
     "data": {
      "text/plain": [
       "77656.195531012636"
      ]
     },
     "execution_count": 15,
     "metadata": {},
     "output_type": "execute_result"
    }
   ],
   "source": [
    "from sklearn.model_selection import train_test_split, cross_val_score\n",
    "from sklearn import metrics\n",
    "\n",
    "\n",
    "#Set up X and y as our features and response variable, respectively.\n",
    "feature_cols = housing.columns.drop('SalePrice')\n",
    "y= housing.SalePrice\n",
    "X= housing[feature_cols]\n",
    "\n",
    "X_train, X_test, y_train, y_test = train_test_split(X, y, random_state=123)\n",
    "\n",
    "# Create an array with the same shape as y_test, then fill it with the mean value of the sample in y_test.\n",
    "y_null = np.zeros_like(y_test, dtype=float)\n",
    "\n",
    "y_null.fill(y_test.mean())\n",
    "\n",
    "print (y_test.mean())\n",
    "np.sqrt(metrics.mean_squared_error(y_test, y_null))\n"
   ]
  },
  {
   "cell_type": "markdown",
   "metadata": {
    "deletable": true,
    "editable": true
   },
   "source": [
    "For our primary model, we will use Random Forest, which should offer the greatest improvement over the simple mean. Random Forest should provide the greatest predictive power, and help sort through and prioritize the features. After dummy variable creation, we have 241 features for 1460 total instances. In addition to creating a model, and viewing its predicted out of sample score and RMSE, we are also interested in which features are most important."
   ]
  },
  {
   "cell_type": "code",
   "execution_count": 16,
   "metadata": {
    "collapsed": false,
    "deletable": true,
    "editable": true
   },
   "outputs": [
    {
     "data": {
      "text/plain": [
       "RandomForestRegressor(bootstrap=True, criterion='mse', max_depth=None,\n",
       "           max_features=5, max_leaf_nodes=None, min_impurity_split=1e-07,\n",
       "           min_samples_leaf=1, min_samples_split=2,\n",
       "           min_weight_fraction_leaf=0.0, n_estimators=150, n_jobs=1,\n",
       "           oob_score=True, random_state=1, verbose=0, warm_start=False)"
      ]
     },
     "execution_count": 16,
     "metadata": {},
     "output_type": "execute_result"
    }
   ],
   "source": [
    "from sklearn.ensemble import RandomForestRegressor\n",
    "\n",
    "rfreg = RandomForestRegressor(n_estimators=150, max_features=5, oob_score=True, random_state=1)\n",
    "rfreg.fit(X, y)"
   ]
  },
  {
   "cell_type": "code",
   "execution_count": 17,
   "metadata": {
    "collapsed": false,
    "deletable": true,
    "editable": true
   },
   "outputs": [
    {
     "data": {
      "text/html": [
       "<div>\n",
       "<table border=\"1\" class=\"dataframe\">\n",
       "  <thead>\n",
       "    <tr style=\"text-align: right;\">\n",
       "      <th></th>\n",
       "      <th>feature</th>\n",
       "      <th>importance</th>\n",
       "    </tr>\n",
       "  </thead>\n",
       "  <tbody>\n",
       "    <tr>\n",
       "      <th>5</th>\n",
       "      <td>OverallQual</td>\n",
       "      <td>0.057863</td>\n",
       "    </tr>\n",
       "    <tr>\n",
       "      <th>25</th>\n",
       "      <td>GrLivArea</td>\n",
       "      <td>0.045550</td>\n",
       "    </tr>\n",
       "    <tr>\n",
       "      <th>20</th>\n",
       "      <td>TotalBsmtSF</td>\n",
       "      <td>0.037886</td>\n",
       "    </tr>\n",
       "    <tr>\n",
       "      <th>40</th>\n",
       "      <td>GarageArea</td>\n",
       "      <td>0.036898</td>\n",
       "    </tr>\n",
       "    <tr>\n",
       "      <th>37</th>\n",
       "      <td>GarageYrBlt</td>\n",
       "      <td>0.030827</td>\n",
       "    </tr>\n",
       "    <tr>\n",
       "      <th>39</th>\n",
       "      <td>GarageCars</td>\n",
       "      <td>0.030787</td>\n",
       "    </tr>\n",
       "    <tr>\n",
       "      <th>16</th>\n",
       "      <td>BsmtFinSF1</td>\n",
       "      <td>0.029528</td>\n",
       "    </tr>\n",
       "    <tr>\n",
       "      <th>12</th>\n",
       "      <td>BsmtQual</td>\n",
       "      <td>0.028606</td>\n",
       "    </tr>\n",
       "    <tr>\n",
       "      <th>22</th>\n",
       "      <td>1stFlrSF</td>\n",
       "      <td>0.028328</td>\n",
       "    </tr>\n",
       "    <tr>\n",
       "      <th>23</th>\n",
       "      <td>2ndFlrSF</td>\n",
       "      <td>0.025593</td>\n",
       "    </tr>\n",
       "    <tr>\n",
       "      <th>35</th>\n",
       "      <td>Fireplaces</td>\n",
       "      <td>0.024530</td>\n",
       "    </tr>\n",
       "    <tr>\n",
       "      <th>2</th>\n",
       "      <td>LotArea</td>\n",
       "      <td>0.024035</td>\n",
       "    </tr>\n",
       "    <tr>\n",
       "      <th>10</th>\n",
       "      <td>ExterQual</td>\n",
       "      <td>0.023012</td>\n",
       "    </tr>\n",
       "    <tr>\n",
       "      <th>8</th>\n",
       "      <td>YearRemodAdd</td>\n",
       "      <td>0.022735</td>\n",
       "    </tr>\n",
       "    <tr>\n",
       "      <th>9</th>\n",
       "      <td>MasVnrArea</td>\n",
       "      <td>0.022078</td>\n",
       "    </tr>\n",
       "    <tr>\n",
       "      <th>32</th>\n",
       "      <td>KitchenQual</td>\n",
       "      <td>0.021958</td>\n",
       "    </tr>\n",
       "    <tr>\n",
       "      <th>28</th>\n",
       "      <td>FullBath</td>\n",
       "      <td>0.020732</td>\n",
       "    </tr>\n",
       "    <tr>\n",
       "      <th>33</th>\n",
       "      <td>TotRmsAbvGrd</td>\n",
       "      <td>0.020438</td>\n",
       "    </tr>\n",
       "    <tr>\n",
       "      <th>7</th>\n",
       "      <td>YearBuilt</td>\n",
       "      <td>0.018718</td>\n",
       "    </tr>\n",
       "    <tr>\n",
       "      <th>36</th>\n",
       "      <td>FireplaceQu</td>\n",
       "      <td>0.017416</td>\n",
       "    </tr>\n",
       "    <tr>\n",
       "      <th>38</th>\n",
       "      <td>GarageFinish</td>\n",
       "      <td>0.016763</td>\n",
       "    </tr>\n",
       "    <tr>\n",
       "      <th>15</th>\n",
       "      <td>BsmtFinType1</td>\n",
       "      <td>0.015415</td>\n",
       "    </tr>\n",
       "    <tr>\n",
       "      <th>1</th>\n",
       "      <td>LotFrontage</td>\n",
       "      <td>0.015189</td>\n",
       "    </tr>\n",
       "    <tr>\n",
       "      <th>21</th>\n",
       "      <td>HeatingQC</td>\n",
       "      <td>0.014310</td>\n",
       "    </tr>\n",
       "    <tr>\n",
       "      <th>44</th>\n",
       "      <td>WoodDeckSF</td>\n",
       "      <td>0.013328</td>\n",
       "    </tr>\n",
       "    <tr>\n",
       "      <th>45</th>\n",
       "      <td>OpenPorchSF</td>\n",
       "      <td>0.012562</td>\n",
       "    </tr>\n",
       "    <tr>\n",
       "      <th>194</th>\n",
       "      <td>Foundation_PConc</td>\n",
       "      <td>0.012273</td>\n",
       "    </tr>\n",
       "    <tr>\n",
       "      <th>14</th>\n",
       "      <td>BsmtExposure</td>\n",
       "      <td>0.011351</td>\n",
       "    </tr>\n",
       "    <tr>\n",
       "      <th>19</th>\n",
       "      <td>BsmtUnfSF</td>\n",
       "      <td>0.010658</td>\n",
       "    </tr>\n",
       "    <tr>\n",
       "      <th>58</th>\n",
       "      <td>MSSubClass_60</td>\n",
       "      <td>0.009626</td>\n",
       "    </tr>\n",
       "    <tr>\n",
       "      <th>...</th>\n",
       "      <td>...</td>\n",
       "      <td>...</td>\n",
       "    </tr>\n",
       "    <tr>\n",
       "      <th>220</th>\n",
       "      <td>Fence_MnWw</td>\n",
       "      <td>0.000052</td>\n",
       "    </tr>\n",
       "    <tr>\n",
       "      <th>203</th>\n",
       "      <td>Heating_Wall</td>\n",
       "      <td>0.000050</td>\n",
       "    </tr>\n",
       "    <tr>\n",
       "      <th>230</th>\n",
       "      <td>SaleType_ConLw</td>\n",
       "      <td>0.000046</td>\n",
       "    </tr>\n",
       "    <tr>\n",
       "      <th>123</th>\n",
       "      <td>Condition2_Feedr</td>\n",
       "      <td>0.000044</td>\n",
       "    </tr>\n",
       "    <tr>\n",
       "      <th>101</th>\n",
       "      <td>Neighborhood_NPkVill</td>\n",
       "      <td>0.000036</td>\n",
       "    </tr>\n",
       "    <tr>\n",
       "      <th>82</th>\n",
       "      <td>Utilities_NoSeWa</td>\n",
       "      <td>0.000031</td>\n",
       "    </tr>\n",
       "    <tr>\n",
       "      <th>224</th>\n",
       "      <td>MiscFeature_TenC</td>\n",
       "      <td>0.000029</td>\n",
       "    </tr>\n",
       "    <tr>\n",
       "      <th>81</th>\n",
       "      <td>Utilities_AllPub</td>\n",
       "      <td>0.000028</td>\n",
       "    </tr>\n",
       "    <tr>\n",
       "      <th>148</th>\n",
       "      <td>RoofStyle_Shed</td>\n",
       "      <td>0.000018</td>\n",
       "    </tr>\n",
       "    <tr>\n",
       "      <th>209</th>\n",
       "      <td>Electrical_Mix</td>\n",
       "      <td>0.000017</td>\n",
       "    </tr>\n",
       "    <tr>\n",
       "      <th>208</th>\n",
       "      <td>Electrical_FuseP</td>\n",
       "      <td>0.000017</td>\n",
       "    </tr>\n",
       "    <tr>\n",
       "      <th>120</th>\n",
       "      <td>Condition1_RRNe</td>\n",
       "      <td>0.000016</td>\n",
       "    </tr>\n",
       "    <tr>\n",
       "      <th>235</th>\n",
       "      <td>SaleCondition_AdjLand</td>\n",
       "      <td>0.000014</td>\n",
       "    </tr>\n",
       "    <tr>\n",
       "      <th>122</th>\n",
       "      <td>Condition2_Artery</td>\n",
       "      <td>0.000013</td>\n",
       "    </tr>\n",
       "    <tr>\n",
       "      <th>164</th>\n",
       "      <td>Exterior1st_ImStucc</td>\n",
       "      <td>0.000012</td>\n",
       "    </tr>\n",
       "    <tr>\n",
       "      <th>221</th>\n",
       "      <td>MiscFeature_Gar2</td>\n",
       "      <td>0.000012</td>\n",
       "    </tr>\n",
       "    <tr>\n",
       "      <th>128</th>\n",
       "      <td>Condition2_RRAn</td>\n",
       "      <td>0.000012</td>\n",
       "    </tr>\n",
       "    <tr>\n",
       "      <th>198</th>\n",
       "      <td>Heating_Floor</td>\n",
       "      <td>0.000011</td>\n",
       "    </tr>\n",
       "    <tr>\n",
       "      <th>129</th>\n",
       "      <td>Condition2_RRNn</td>\n",
       "      <td>0.000011</td>\n",
       "    </tr>\n",
       "    <tr>\n",
       "      <th>89</th>\n",
       "      <td>Neighborhood_Blueste</td>\n",
       "      <td>0.000010</td>\n",
       "    </tr>\n",
       "    <tr>\n",
       "      <th>181</th>\n",
       "      <td>Exterior2nd_Other</td>\n",
       "      <td>0.000010</td>\n",
       "    </tr>\n",
       "    <tr>\n",
       "      <th>176</th>\n",
       "      <td>Exterior2nd_CBlock</td>\n",
       "      <td>0.000009</td>\n",
       "    </tr>\n",
       "    <tr>\n",
       "      <th>202</th>\n",
       "      <td>Heating_OthW</td>\n",
       "      <td>0.000005</td>\n",
       "    </tr>\n",
       "    <tr>\n",
       "      <th>173</th>\n",
       "      <td>Exterior2nd_AsphShn</td>\n",
       "      <td>0.000005</td>\n",
       "    </tr>\n",
       "    <tr>\n",
       "      <th>127</th>\n",
       "      <td>Condition2_RRAe</td>\n",
       "      <td>0.000003</td>\n",
       "    </tr>\n",
       "    <tr>\n",
       "      <th>153</th>\n",
       "      <td>RoofMatl_Roll</td>\n",
       "      <td>0.000003</td>\n",
       "    </tr>\n",
       "    <tr>\n",
       "      <th>161</th>\n",
       "      <td>Exterior1st_CBlock</td>\n",
       "      <td>0.000003</td>\n",
       "    </tr>\n",
       "    <tr>\n",
       "      <th>158</th>\n",
       "      <td>Exterior1st_AsphShn</td>\n",
       "      <td>0.000001</td>\n",
       "    </tr>\n",
       "    <tr>\n",
       "      <th>152</th>\n",
       "      <td>RoofMatl_Metal</td>\n",
       "      <td>0.000001</td>\n",
       "    </tr>\n",
       "    <tr>\n",
       "      <th>43</th>\n",
       "      <td>PavedDrive</td>\n",
       "      <td>0.000000</td>\n",
       "    </tr>\n",
       "  </tbody>\n",
       "</table>\n",
       "<p>240 rows × 2 columns</p>\n",
       "</div>"
      ],
      "text/plain": [
       "                   feature  importance\n",
       "5              OverallQual    0.057863\n",
       "25               GrLivArea    0.045550\n",
       "20             TotalBsmtSF    0.037886\n",
       "40              GarageArea    0.036898\n",
       "37             GarageYrBlt    0.030827\n",
       "39              GarageCars    0.030787\n",
       "16              BsmtFinSF1    0.029528\n",
       "12                BsmtQual    0.028606\n",
       "22                1stFlrSF    0.028328\n",
       "23                2ndFlrSF    0.025593\n",
       "35              Fireplaces    0.024530\n",
       "2                  LotArea    0.024035\n",
       "10               ExterQual    0.023012\n",
       "8             YearRemodAdd    0.022735\n",
       "9               MasVnrArea    0.022078\n",
       "32             KitchenQual    0.021958\n",
       "28                FullBath    0.020732\n",
       "33            TotRmsAbvGrd    0.020438\n",
       "7                YearBuilt    0.018718\n",
       "36             FireplaceQu    0.017416\n",
       "38            GarageFinish    0.016763\n",
       "15            BsmtFinType1    0.015415\n",
       "1              LotFrontage    0.015189\n",
       "21               HeatingQC    0.014310\n",
       "44              WoodDeckSF    0.013328\n",
       "45             OpenPorchSF    0.012562\n",
       "194       Foundation_PConc    0.012273\n",
       "14            BsmtExposure    0.011351\n",
       "19               BsmtUnfSF    0.010658\n",
       "58           MSSubClass_60    0.009626\n",
       "..                     ...         ...\n",
       "220             Fence_MnWw    0.000052\n",
       "203           Heating_Wall    0.000050\n",
       "230         SaleType_ConLw    0.000046\n",
       "123       Condition2_Feedr    0.000044\n",
       "101   Neighborhood_NPkVill    0.000036\n",
       "82        Utilities_NoSeWa    0.000031\n",
       "224       MiscFeature_TenC    0.000029\n",
       "81        Utilities_AllPub    0.000028\n",
       "148         RoofStyle_Shed    0.000018\n",
       "209         Electrical_Mix    0.000017\n",
       "208       Electrical_FuseP    0.000017\n",
       "120        Condition1_RRNe    0.000016\n",
       "235  SaleCondition_AdjLand    0.000014\n",
       "122      Condition2_Artery    0.000013\n",
       "164    Exterior1st_ImStucc    0.000012\n",
       "221       MiscFeature_Gar2    0.000012\n",
       "128        Condition2_RRAn    0.000012\n",
       "198          Heating_Floor    0.000011\n",
       "129        Condition2_RRNn    0.000011\n",
       "89    Neighborhood_Blueste    0.000010\n",
       "181      Exterior2nd_Other    0.000010\n",
       "176     Exterior2nd_CBlock    0.000009\n",
       "202           Heating_OthW    0.000005\n",
       "173    Exterior2nd_AsphShn    0.000005\n",
       "127        Condition2_RRAe    0.000003\n",
       "153          RoofMatl_Roll    0.000003\n",
       "161     Exterior1st_CBlock    0.000003\n",
       "158    Exterior1st_AsphShn    0.000001\n",
       "152         RoofMatl_Metal    0.000001\n",
       "43              PavedDrive    0.000000\n",
       "\n",
       "[240 rows x 2 columns]"
      ]
     },
     "execution_count": 17,
     "metadata": {},
     "output_type": "execute_result"
    }
   ],
   "source": [
    "# Compute feature importances.\n",
    "\n",
    "pd.DataFrame({'Feature':feature_cols, 'Importance':rfreg.feature_importances_}).sort_values(by='importance', ascending=False)"
   ]
  },
  {
   "cell_type": "code",
   "execution_count": 18,
   "metadata": {
    "collapsed": false,
    "deletable": true,
    "editable": true
   },
   "outputs": [
    {
     "name": "stdout",
     "output_type": "stream",
     "text": [
      "0.835710226929\n"
     ]
    },
    {
     "data": {
      "text/plain": [
       "31879.720433631563"
      ]
     },
     "execution_count": 18,
     "metadata": {},
     "output_type": "execute_result"
    }
   ],
   "source": [
    "#Compute the OOB score and RMSE.\n",
    "print((rfreg.oob_score_))\n",
    "\n",
    "\n",
    "scores = cross_val_score(rfreg, X, y, cv=10, scoring='neg_mean_squared_error')\n",
    "np.mean(np.sqrt(-scores))\n",
    "\n"
   ]
  },
  {
   "cell_type": "markdown",
   "metadata": {
    "deletable": true,
    "editable": true
   },
   "source": [
    "The RMSE is ~31k, less than half the ~78k when relying on the mean price alone.\n",
    "The most important features include overall construction quality, square feet above ground, square feet in the basement, and square feet in the garage.\n",
    "Notably, the many subjective quality score features that we processed appear amongst the most important features, as do more basic ones like square footage.\n",
    "\n",
    "We will try to tune the max features to see if we can improve the RMSE. The 10-fold cross-validation is too slow to try all 241 possibilities, but we will see if increasing to 24 provides a better RMSE."
   ]
  },
  {
   "cell_type": "code",
   "execution_count": 19,
   "metadata": {
    "collapsed": false,
    "deletable": true,
    "editable": true
   },
   "outputs": [
    {
     "data": {
      "image/png": "[encoded data removed]",
      "text/plain": [
       "<matplotlib.figure.Figure at 0xb22eeb8>"
      ]
     },
     "metadata": {},
     "output_type": "display_data"
    }
   ],
   "source": [
    "feature_range = list(range(1, 25))\n",
    "\n",
    "\n",
    "RMSE_scores = []\n",
    "                     \n",
    "for feature in feature_range:\n",
    "    rfreg = RandomForestRegressor(n_estimators=150, max_features=feature, random_state=1)\n",
    "    MSE_scores = cross_val_score(rfreg, X, y, cv=10, scoring='neg_mean_squared_error')\n",
    "    RMSE_scores.append(np.mean(np.sqrt(-MSE_scores)))\n",
    "    \n",
    "plt.plot(feature_range, RMSE_scores);\n",
    "\n",
    "plt.xlabel('max_features');\n",
    "plt.ylabel('RMSE (lower is better)');"
   ]
  },
  {
   "cell_type": "code",
   "execution_count": 20,
   "metadata": {
    "collapsed": false,
    "deletable": true,
    "editable": true
   },
   "outputs": [
    {
     "data": {
      "text/plain": [
       "(28399.65683466844, 22)"
      ]
     },
     "execution_count": 20,
     "metadata": {},
     "output_type": "execute_result"
    }
   ],
   "source": [
    "sorted(zip(RMSE_scores, feature_range))[0]"
   ]
  },
  {
   "cell_type": "markdown",
   "metadata": {
    "deletable": true,
    "editable": true
   },
   "source": [
    "The RMSE does get substantially lower as the max features is increased, but the rate starts to tail off. 24 provides the lowest RMSE tested, at ~28k.\n",
    "\n",
    "This give us an idea of the lower bound for the RMSE that can be achieved. However, a builder or homeowner may want a more interpretable model to get a sense\n",
    "of what contributes most to a home's value, and what if any improvements can be made to increase it. A simple linear regression would do that, at the expense \n",
    "of at least some accuracy. We will try to see what the tradeoff is."
   ]
  },
  {
   "cell_type": "code",
   "execution_count": 42,
   "metadata": {
    "collapsed": false,
    "deletable": true,
    "editable": true
   },
   "outputs": [
    {
     "name": "stdout",
     "output_type": "stream",
     "text": [
      "30117.7320346\n"
     ]
    }
   ],
   "source": [
    "\n",
    "from sklearn.linear_model import LinearRegression\n",
    "from sklearn import metrics\n",
    "\n",
    "X_train, X_test, y_train, y_test = train_test_split(X, y, random_state=123)\n",
    "\n",
    "linreg= LinearRegression()\n",
    "linreg.fit(X_train,y_train)\n",
    "\n",
    "y_pred = linreg.predict(X_test)\n",
    "print(np.sqrt(metrics.mean_squared_error(y_test, y_pred)))"
   ]
  },
  {
   "cell_type": "code",
   "execution_count": 43,
   "metadata": {
    "collapsed": false,
    "deletable": true,
    "editable": true,
    "scrolled": true
   },
   "outputs": [
    {
     "name": "stdout",
     "output_type": "stream",
     "text": [
      "-1225960.64085\n",
      "RoofMatl_ClyTile    -596458.719545\n",
      "Condition2_PosN     -198145.225736\n",
      "MiscFeature_TenC     -75761.407736\n",
      "Exterior2nd_Other    -34333.722350\n",
      "MSSubClass_180       -33806.499449\n",
      "MSSubClass_75        -32194.625736\n",
      "Heating_OthW         -31346.135592\n",
      "Foundation_Wood      -25616.000082\n",
      "MSSubClass_120       -25579.058220\n",
      "Utilities_NoSeWa     -25028.707878\n",
      "dtype: float64\n",
      "GarageType_Basment       34739.453995\n",
      "Neighborhood_NridgHt     39002.218050\n",
      "Exterior1st_BrkComm      55892.712064\n",
      "RoofMatl_WdShake         66565.352892\n",
      "RoofMatl_Tar&Grv         70750.701747\n",
      "RoofMatl_Roll            79212.469299\n",
      "RoofMatl_CompShg         93451.173522\n",
      "Condition2_PosA         101697.066988\n",
      "RoofMatl_Membran        127993.967678\n",
      "RoofMatl_WdShngl        158485.054408\n",
      "dtype: float64\n"
     ]
    }
   ],
   "source": [
    "coefficient_output = pd.Series(dict(zip(feature_cols, linreg.coef_))).sort_values()\n",
    "print (linreg.intercept_)\n",
    "print (coefficient_output.head(10))\n",
    "print (coefficient_output.tail(10))"
   ]
  },
  {
   "cell_type": "markdown",
   "metadata": {
    "deletable": true,
    "editable": true
   },
   "source": [
    "Looking through the ten most positive and ten most negative coefficients, there are some extreme outliers. There is likely collinearity or overfitting, despite the fact that there weren't many features that were obviously highly correlated. The RMSE is above the near optimal ~28k value that we found when using the Random Forest."
   ]
  },
  {
   "cell_type": "code",
   "execution_count": 44,
   "metadata": {
    "collapsed": false,
    "deletable": true,
    "editable": true
   },
   "outputs": [
    {
     "name": "stdout",
     "output_type": "stream",
     "text": [
      "33580.8757763\n",
      "1\n",
      "1\n",
      "1\n",
      "6\n"
     ]
    }
   ],
   "source": [
    "scores=cross_val_score(linreg, X, y, cv=10, scoring='neg_mean_squared_error')\n",
    "print (np.mean(np.sqrt(-scores)))\n",
    "\n",
    "print (housing.MiscFeature_TenC.sum())\n",
    "print (housing.RoofMatl_ClyTile.sum())\n",
    "print (housing.RoofMatl_Membran.sum())\n",
    "print (housing.RoofMatl_WdShngl.sum())"
   ]
  },
  {
   "cell_type": "markdown",
   "metadata": {
    "deletable": true,
    "editable": true
   },
   "source": [
    "Some of the more extreme outliers appear to be the result of too few data points. We will try building another linear model, using only the feature columns that were found to be most important earlier when we were using the Random Forest."
   ]
  },
  {
   "cell_type": "code",
   "execution_count": 46,
   "metadata": {
    "collapsed": false,
    "deletable": true,
    "editable": true
   },
   "outputs": [
    {
     "name": "stdout",
     "output_type": "stream",
     "text": [
      "35546.8267837\n"
     ]
    }
   ],
   "source": [
    "Important_cols=['OverallQual', 'GrLivArea','TotalBsmtSF',\t'GarageArea',\t'GarageYrBlt',\t'GarageCars',\t'BsmtFinSF1','BsmtQual'\t,'1stFlrSF','2ndFlrSF']\n",
    "X2= housing[Important_cols]\n",
    "\n",
    "X2_train, X2_test, y_train, y_test = train_test_split(X2, y, random_state=123)\n",
    "\n",
    "linreg= LinearRegression()\n",
    "linreg.fit(X2_train,y_train)\n",
    "\n",
    "y_pred = linreg.predict(X2_test)\n",
    "print(np.sqrt(metrics.mean_squared_error(y_test, y_pred)))"
   ]
  },
  {
   "cell_type": "code",
   "execution_count": 47,
   "metadata": {
    "collapsed": false,
    "deletable": true,
    "editable": true
   },
   "outputs": [
    {
     "name": "stdout",
     "output_type": "stream",
     "text": [
      "-94742.2859095\n",
      "GrLivArea        -32.522775\n",
      "GarageYrBlt      -14.786447\n",
      "TotalBsmtSF       -7.777781\n",
      "GarageArea         4.344599\n",
      "BsmtFinSF1        19.761692\n",
      "2ndFlrSF          73.263248\n",
      "1stFlrSF         100.924641\n",
      "BsmtQual       11682.282470\n",
      "OverallQual    20931.886587\n",
      "GarageCars     21785.110861\n",
      "dtype: float64\n"
     ]
    }
   ],
   "source": [
    "coefficient_output2 = pd.Series(dict(zip(Important_cols, linreg.coef_))).sort_values()\n",
    "print (linreg.intercept_)\n",
    "print (coefficient_output2)"
   ]
  },
  {
   "cell_type": "markdown",
   "metadata": {
    "deletable": true,
    "editable": true
   },
   "source": [
    "##  Some closing observations\n",
    "Looking at the coefficients for the final linear regression, the y-intercept still shows that the housing price is still not entirely linear with respect to the most important variables, at least if we move far outside the observed ranges of each of the features. Furthermore, there is a fairly steep price (~6k) in increased RMSE that has to be paid for the easy, dollar-value interpretability of an non-regularized linear regression. However, we can still gain some insights for homeowners or builders to use, even if they are ones that aren't easily actionable. The features that were deemed most important, which were primarily based on physical size and quality scores, were not the ones originally predicted.\n",
    "\n",
    "For further analysis, here are some areas I would examine:\n",
    "- Data for different towns. Ames, IA may not be representative of other cities.\n",
    "- Clustering or KNN. This may have helped with some of the more extreme outliers.\n",
    "- Eliminating the subjective features (ie quality scores) to see if these can be derived empirically.\n"
   ]
  }
 ],
 "metadata": {
  "kernelspec": {
   "display_name": "Python 3 (sandboxed)",
   "language": "python",
   "name": "python3"
  },
  "language_info": {
   "codemirror_mode": {
    "name": "ipython",
    "version": 3
   },
   "file_extension": ".py",
   "mimetype": "text/x-python",
   "name": "python",
   "nbconvert_exporter": "python",
   "pygments_lexer": "ipython3",
   "version": "3.5.2"
  }
 },
 "nbformat": 4,
 "nbformat_minor": 2
}
