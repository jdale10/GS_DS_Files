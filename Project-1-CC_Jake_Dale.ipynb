{
 "cells": [
  {
   "cell_type": "markdown",
   "metadata": {},
   "source": [
    "<img src=\"http://imgur.com/1ZcRyrc.png\" style=\"float: left; margin: 20px; height: 55px\">\n",
    "\n",
    "# Project 1: Python Coding Exercises\n",
    "\n",
    "_Authors: Joseph Nelson (DC) _\n",
    "\n",
    "---"
   ]
  },
  {
   "cell_type": "markdown",
   "metadata": {},
   "source": [
    "The following code challenges are drawn from common exercises used in technical interviews.\n",
    "\n",
    "Note there may be several ways to approach each challenge!"
   ]
  },
  {
   "cell_type": "markdown",
   "metadata": {},
   "source": [
    "### Challenge 1.1: Largest Palindrome\n",
    "A palindromic number reads the same both ways. For example, 1234321 is a palindrome. The largest palindrome made from the product of two 2-digit numbers is 9009 = 91 × 99. Find the largest palindrome made from the product of two 3-digit numbers."
   ]
  },
  {
   "cell_type": "code",
   "execution_count": 67,
   "metadata": {},
   "outputs": [
    {
     "name": "stdout",
     "output_type": "stream",
     "text": [
      "906609 999 999\n"
     ]
    }
   ],
   "source": [
    "#Set the upper and lower bounds of numbers to multiply\n",
    "largest_number=999\n",
    "smallest_number=100\n",
    "#loop through the numbers, converting each product to a string, flipping it, then back to an integer\n",
    "#if it is the same forwards and backwards, keep as the answer until a bigger one is found later\n",
    "answer=0\n",
    "for i in range(smallest_number+1, largest_number+1):\n",
    "    for j in range (smallest_number+1, largest_number+1):\n",
    "        if i*j ==int(str(i*j)[::-1]):\n",
    "            if i*j >answer:\n",
    "                answer=i*j\n",
    "print(answer)"
   ]
  },
  {
   "cell_type": "markdown",
   "metadata": {},
   "source": [
    "\n",
    "### Challenge 1.2: Summation of primes\n",
    "The sum of the primes below 10 is 2 + 3 + 5 + 7 = 17. Find the sum of all the primes below two-thousand."
   ]
  },
  {
   "cell_type": "code",
   "execution_count": 82,
   "metadata": {},
   "outputs": [
    {
     "name": "stdout",
     "output_type": "stream",
     "text": [
      "277050\n"
     ]
    }
   ],
   "source": [
    "#create a function to determine whether a given number is prime\n",
    "def is_prime(n):\n",
    "    #two is a special case, handle first to return True- it is prime\n",
    "    if n == 2:\n",
    "        return True\n",
    "    #loop through all numbers from two until n-1, see if n is divisible by that number\n",
    "    #if so, return False- the number is not prime\n",
    "    for i in range(2,n):\n",
    "        if n % i ==0:\n",
    "            return False\n",
    "    #if n is not divisible by any number in the loop, return True- n is prime\n",
    "    return True\n",
    "\n",
    "#create a variable to hold the running sum of primes\n",
    "sum=0\n",
    "#loop through numbers from 2 \n",
    "for j in range(2,2000):\n",
    "    if is_prime(j):\n",
    "        sum+=j\n",
    "\n",
    "print(sum)"
   ]
  },
  {
   "cell_type": "markdown",
   "metadata": {},
   "source": [
    "### Challenge 1.3: Multiples of 3 and 5\n",
    "If we list all the natural numbers below 10 that are multiples of 3 or 5, we get 3, 5, 6 and 9. The sum of these multiples is 23. Find the sum of all the multiples of 3 or 5 below 1000."
   ]
  },
  {
   "cell_type": "code",
   "execution_count": 59,
   "metadata": {},
   "outputs": [
    {
     "name": "stdout",
     "output_type": "stream",
     "text": [
      "233168\n"
     ]
    }
   ],
   "source": [
    "#create a function to see if a given number is divisible by 3 or 5, return True if it does\n",
    "def is_3_or_5_multiple(n):\n",
    "    if n % 3 == 0 or n % 5 == 0:\n",
    "        return True\n",
    "    else:\n",
    "        return False\n",
    "\n",
    "#create a variable to hold the running sum of divisible numbers\n",
    "sum=0\n",
    "#loop through numbers from 1 to 999, check each to see if it's divisible, and add it to the sum if so\n",
    "for i in range(1,1000):\n",
    "    if is_3_or_5_multiple(i):\n",
    "        sum+=i\n",
    "print(sum)"
   ]
  },
  {
   "cell_type": "markdown",
   "metadata": {},
   "source": [
    "### Challenge 2: Fizz Buzz\n",
    "Write a program that prints all the numbers from 1 to 100. For multiples of 3, instead of the number, print \"Fizz\", for multiples of 5 print \"Buzz\". For numbers which are multiples of both 3 and 5, print \"FizzBuzz\". Bonus: If that's too easy, create three unique solutions. Sometimes you'll encounter unexpected constraints, so make sure you're able to think creatively!"
   ]
  },
  {
   "cell_type": "code",
   "execution_count": 2,
   "metadata": {},
   "outputs": [
    {
     "name": "stdout",
     "output_type": "stream",
     "text": [
      "1\n",
      "2\n",
      "Fizz\n",
      "4\n",
      "Buzz\n",
      "Fizz\n",
      "7\n",
      "8\n",
      "Fizz\n",
      "Buzz\n",
      "11\n",
      "Fizz\n",
      "13\n",
      "14\n",
      "FizzBuzz\n",
      "16\n",
      "17\n",
      "Fizz\n",
      "19\n",
      "Buzz\n",
      "Fizz\n",
      "22\n",
      "23\n",
      "Fizz\n",
      "Buzz\n",
      "26\n",
      "Fizz\n",
      "28\n",
      "29\n",
      "FizzBuzz\n",
      "31\n",
      "32\n",
      "Fizz\n",
      "34\n",
      "Buzz\n",
      "Fizz\n",
      "37\n",
      "38\n",
      "Fizz\n",
      "Buzz\n",
      "41\n",
      "Fizz\n",
      "43\n",
      "44\n",
      "FizzBuzz\n",
      "46\n",
      "47\n",
      "Fizz\n",
      "49\n",
      "Buzz\n",
      "Fizz\n",
      "52\n",
      "53\n",
      "Fizz\n",
      "Buzz\n",
      "56\n",
      "Fizz\n",
      "58\n",
      "59\n",
      "FizzBuzz\n",
      "61\n",
      "62\n",
      "Fizz\n",
      "64\n",
      "Buzz\n",
      "Fizz\n",
      "67\n",
      "68\n",
      "Fizz\n",
      "Buzz\n",
      "71\n",
      "Fizz\n",
      "73\n",
      "74\n",
      "FizzBuzz\n",
      "76\n",
      "77\n",
      "Fizz\n",
      "79\n",
      "Buzz\n",
      "Fizz\n",
      "82\n",
      "83\n",
      "Fizz\n",
      "Buzz\n",
      "86\n",
      "Fizz\n",
      "88\n",
      "89\n",
      "FizzBuzz\n",
      "91\n",
      "92\n",
      "Fizz\n",
      "94\n",
      "Buzz\n",
      "Fizz\n",
      "97\n",
      "98\n",
      "Fizz\n"
     ]
    }
   ],
   "source": [
    "for i in range(1,101):\n",
    "    #start with the most restrictive scenario, if both condition are met\n",
    "    #print 'FizzBuzz' if so, then move on to the next number\n",
    "    if i % 5 == 0 and i % 3 == 0:\n",
    "        print('FizzBuzz')\n",
    "    #if both aren't met, test if the number is divisile by 5 alone\n",
    "    elif i % 5 == 0:\n",
    "        print('Buzz')\n",
    "    #then test if the number is divisible by 3 alone\n",
    "    elif i % 3 ==0:\n",
    "        print('Fizz')\n",
    "    #if none of the criteria are met, then just print the number and move on\n",
    "    else:\n",
    "        print(i)"
   ]
  },
  {
   "cell_type": "markdown",
   "metadata": {},
   "source": [
    "### Challenge 3: String Compressor\n",
    "Implement a method to perform basic string compression using the counts of repeated characters. (This is called Run-Length Encoding.) For example, the string 'aabcccccaaa' would become a2b1c5a3. If the “compressed” string would not become smaller than the original string, your method should return the original string. You can assume the string has only uppercase and lowercase letters (a-z). Specify whether your solution is case-sensitive or case-insensitive, and what you would need to change to make it the other."
   ]
  },
  {
   "cell_type": "code",
   "execution_count": 84,
   "metadata": {},
   "outputs": [
    {
     "name": "stdout",
     "output_type": "stream",
     "text": [
      "A2B1C5A3\n"
     ]
    }
   ],
   "source": [
    "def compress(s):\n",
    "    #set up an empty string to add compressed results\n",
    "    answer=''\n",
    "    #set up the stopping point for the loop\n",
    "    end_point=len(s)\n",
    "    #special case if the original string is 0 or 1 characters\n",
    "    if end_point == 0:\n",
    "        return ''\n",
    "    if end_point == 1:\n",
    "        return s\n",
    "    #create a counter as you read through the file\n",
    "    reader=1\n",
    "    #create a second counter to keep track of the number of duplicates\n",
    "    duplicates=1\n",
    "    #loop through the original string\n",
    "    while reader < end_point:\n",
    "        #if the character matches the one before it, increment the duplicates counter\n",
    "        if s[reader] == s[reader - 1]:\n",
    "            duplicates += 1\n",
    "        else:\n",
    "            #add the character plus the number of duplicates to the final string\n",
    "            answer = answer + s[reader - 1] + str(duplicates)\n",
    "            #reset duplicates back to one for next use\n",
    "            duplicates = 1\n",
    "        #increment reader counter to look at the next character\n",
    "        reader += 1\n",
    "    #add the character plus the nubmer of duplicates to the final string\n",
    "    answer = answer + s[reader - 1] + str(duplicates)\n",
    "    return answer\n",
    "        \n",
    "test_string = \"aabcccccaaa\"\n",
    "#if statement to see if the compressed file is shorter than the original. If so, compress.\n",
    "if len(compress(test_string) < len (test_string):\n",
    "    print(compress(test_string)\n",
    "else:\n",
    "    print(test_string)\n",
    "          \n",
    "#This function is case-sensitive. To make it case-insensitive, you could simply add_\n",
    "#a dot operator and the upper() or lower() function after test_string when the_\n",
    "#compress(s) function is called."
   ]
  },
  {
   "cell_type": "code",
   "execution_count": null,
   "metadata": {
    "collapsed": true
   },
   "outputs": [],
   "source": []
  }
 ],
 "metadata": {
  "anaconda-cloud": {},
  "kernelspec": {
   "display_name": "Python 3",
   "language": "python",
   "name": "python3"
  },
  "language_info": {
   "codemirror_mode": {
    "name": "ipython",
    "version": 3
   },
   "file_extension": ".py",
   "mimetype": "text/x-python",
   "name": "python",
   "nbconvert_exporter": "python",
   "pygments_lexer": "ipython3",
   "version": "3.6.3"
  }
 },
 "nbformat": 4,
 "nbformat_minor": 2
}
